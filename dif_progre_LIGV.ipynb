{
  "nbformat": 4,
  "nbformat_minor": 0,
  "metadata": {
    "colab": {
      "provenance": [],
      "authorship_tag": "ABX9TyO3kgbSxMBGlPoVUqmay3ue",
      "include_colab_link": true
    },
    "kernelspec": {
      "name": "python3",
      "display_name": "Python 3"
    },
    "language_info": {
      "name": "python"
    }
  },
  "cells": [
    {
      "cell_type": "markdown",
      "metadata": {
        "id": "view-in-github",
        "colab_type": "text"
      },
      "source": [
        "<a href=\"https://colab.research.google.com/github/ivanto-vrgs/Diferencias-Progresivas-LIGV/blob/main/dif_progre_LIGV.ipynb\" target=\"_parent\"><img src=\"https://colab.research.google.com/assets/colab-badge.svg\" alt=\"Open In Colab\"/></a>"
      ]
    },
    {
      "cell_type": "code",
      "execution_count": 3,
      "metadata": {
        "colab": {
          "base_uri": "https://localhost:8080/"
        },
        "id": "YD6FkuXrN14o",
        "outputId": "8e9f592d-c194-4001-df80-d5bc0b2d1ce2"
      },
      "outputs": [
        {
          "output_type": "stream",
          "name": "stdout",
          "text": [
            "\n",
            "----------------------------------------------------------------------\n",
            "FTCS con h=0.1, k=0.0005, T=0.5\n",
            "r = k/h^2 = 0.0500  -> ESTABLE (r<=0.5)\n",
            "Pasos de tiempo = 1000\n",
            "Error L2  = 1.398650e-04\n",
            "Error Linf= 2.074533e-04\n",
            "----------------------------------------------------------------------\n",
            "  x    u_num      u_exact    abs_error\n",
            "0.0 0.000000 0.000000e+00 0.000000e+00\n",
            "0.1 0.002287 2.222414e-03 6.410661e-05\n",
            "0.2 0.004349 4.227283e-03 1.219380e-04\n",
            "0.3 0.005986 5.818356e-03 1.678333e-04\n",
            "0.4 0.007037 6.839888e-03 1.972999e-04\n",
            "0.5 0.007399 7.191883e-03 2.074533e-04\n",
            "0.6 0.007037 6.839888e-03 1.972999e-04\n",
            "0.7 0.005986 5.818356e-03 1.678333e-04\n",
            "0.8 0.004349 4.227283e-03 1.219380e-04\n",
            "0.9 0.002287 2.222414e-03 6.410661e-05\n",
            "1.0 0.000000 8.807517e-19 8.807517e-19\n",
            "\n",
            "----------------------------------------------------------------------\n",
            "FTCS con h=0.1, k=0.01, T=0.5\n",
            "r = k/h^2 = 1.0000  -> INESTABLE (r>0.5)\n",
            "Pasos de tiempo = 50\n",
            "Error L2  = 9.004529e+04\n",
            "Error Linf= 1.364788e+05\n",
            "----------------------------------------------------------------------\n",
            "  x          u_num      u_exact    abs_error\n",
            "0.0       0.000000 0.000000e+00 0.000000e+00\n",
            "0.1  -30266.270026 2.222414e-03 3.026627e+04\n",
            "0.2   60588.054981 4.227283e-03 6.058805e+04\n",
            "0.3  -89862.842345 5.818356e-03 8.986285e+04\n",
            "0.4  115225.537917 6.839888e-03 1.152255e+05\n",
            "0.5 -132328.392814 7.191883e-03 1.323284e+05\n",
            "0.6  136478.815915 6.839888e-03 1.364788e+05\n",
            "0.7 -124251.368517 5.818356e-03 1.242514e+05\n",
            "0.8   94976.581153 4.227283e-03 9.497658e+04\n",
            "0.9  -51519.548023 2.222414e-03 5.151955e+04\n",
            "1.0       0.000000 8.807517e-19 8.807517e-19\n"
          ]
        }
      ],
      "source": [
        "\n",
        "\n",
        "import numpy as np\n",
        "from math import pi, sin, exp\n",
        "import pandas as pd\n",
        "\n",
        "def exact_solution(x, t):\n",
        "    return np.exp(-(pi**2)*t) * np.sin(pi*x)\n",
        "\n",
        "def ftcs_heat(h, k, T):\n",
        "    \"\"\"\n",
        "    Resuelve u_t = u_xx con FTCS hasta tiempo T.\n",
        "    Retorna:\n",
        "      x      : nodos espaciales\n",
        "      u      : solución numérica en t=T\n",
        "      r      : número de Courant r = k/h^2\n",
        "      steps  : número de pasos de tiempo realizados\n",
        "    \"\"\"\n",
        "    x = np.arange(0, 1 + 1e-12, h)\n",
        "    r = k / (h**2)\n",
        "    steps = int(round(T / k))\n",
        "\n",
        "    # condición inicial\n",
        "    u = np.sin(pi * x)\n",
        "    u[0] = 0.0\n",
        "    u[-1] = 0.0\n",
        "\n",
        "    # avance en el tiempo\n",
        "    for _ in range(steps):\n",
        "        u_new = u.copy()\n",
        "        u_new[1:-1] = u[1:-1] + r*(u[2:] - 2.0*u[1:-1] + u[:-2])\n",
        "        u = u_new\n",
        "    return x, u, r, steps\n",
        "\n",
        "def mostrar_tabla(h, k, T=0.5):\n",
        "    x, u_num, r, steps = ftcs_heat(h, k, T)\n",
        "    u_ex = exact_solution(x, T)\n",
        "    err = np.abs(u_num - u_ex)\n",
        "    max_err = np.max(err)\n",
        "    l2_err = np.sqrt(np.mean(err**2))\n",
        "\n",
        "    print(\"\\n\" + \"-\"*70)\n",
        "    print(f\"FTCS con h={h}, k={k}, T={T}\")\n",
        "    print(f\"r = k/h^2 = {r:.4f}  -> {'ESTABLE (r<=0.5)' if r<=0.5 else 'INESTABLE (r>0.5)'}\")\n",
        "    print(f\"Pasos de tiempo = {steps}\")\n",
        "    print(f\"Error L2  = {l2_err:.6e}\")\n",
        "    print(f\"Error Linf= {max_err:.6e}\")\n",
        "    print(\"-\"*70)\n",
        "\n",
        "    tabla = pd.DataFrame({\n",
        "        \"x\": x,\n",
        "        \"u_num\": u_num,\n",
        "        \"u_exact\": u_ex,\n",
        "        \"abs_error\": err\n",
        "    })\n",
        "    print(tabla.to_string(index=False))\n",
        "\n",
        "def main():\n",
        "    h = 0.1\n",
        "    T = 0.5\n",
        "\n",
        "    # (a)\n",
        "    mostrar_tabla(h, 0.0005, T)\n",
        "\n",
        "    # (b)\n",
        "    mostrar_tabla(h, 0.01, T)\n",
        "\n",
        "if __name__ == \"__main__\":\n",
        "    main()\n"
      ]
    }
  ]
}